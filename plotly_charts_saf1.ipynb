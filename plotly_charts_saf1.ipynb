{
 "cells": [
  {
   "cell_type": "markdown",
   "metadata": {},
   "source": [
    "If you find this code helpful for generating your charts, please consider citing the following article: *\"RNN-LSTM: From applications to modeling techniques and beyond—Systematic review\"* (https://doi.org/10.1016/j.jksuci.2024.102068).\n",
    "Thank you"
   ]
  },
  {
   "cell_type": "code",
   "execution_count": 1,
   "metadata": {},
   "outputs": [],
   "source": [
    "# https://plotly.com/python/pie-charts/\n",
    "import plotly.graph_objects as go"
   ]
  },
  {
   "cell_type": "markdown",
   "metadata": {},
   "source": [
    "# **Preferred templates**"
   ]
  },
  {
   "cell_type": "code",
   "execution_count": 2,
   "metadata": {},
   "outputs": [],
   "source": [
    "templs = ['ggplot2', 'seaborn', 'simple_white', 'plotly', 'plotly_white', 'plotly_dark', 'presentation', 'xgridoff', 'ygridoff', 'gridon', 'none']"
   ]
  },
  {
   "cell_type": "markdown",
   "metadata": {},
   "source": [
    "# **Single Donut Chart**\n",
    "\n",
    "<span style=\"font-size:14px;\">**This code will generate a figure like this one:<br> https://ars.els-cdn.com/content/image/1-s2.0-S1319157824001575-gr7_lrg.jpg**</span>"
   ]
  },
  {
   "cell_type": "code",
   "execution_count": null,
   "metadata": {},
   "outputs": [
    {
     "data": {
      "application/vnd.plotly.v1+json": {
       "config": {
        "plotlyServerURL": "https://plot.ly"
       },
       "data": [
        {
         "hole": 0.3,
         "insidetextfont": {
          "color": "white",
          "size": 16
         },
         "labels": [
          "IEEE Xplore",
          "Scopus",
          "ScienceDirect",
          "Web of Science",
          "ACM DL"
         ],
         "marker": {
          "line": {
           "color": "grey",
           "width": 0.1
          }
         },
         "opacity": 1,
         "sort": true,
         "text": [
          "<b>IEEE Xplore</b><br>n=37, 45%",
          "<b>Scopus</b><br>n=32, 39%",
          "<b>ScienceDirect</b><br>n=11, 13%",
          "<b>Web of Science</b><br>n=1, 1%",
          "<b>ACM DL</b><br>n=1, 1%"
         ],
         "textinfo": "text",
         "textposition": "inside",
         "type": "pie",
         "values": [
          37,
          32,
          11,
          1,
          1
         ]
        }
       ],
       "layout": {
        "annotations": [
         {
          "font": {
           "color": "black",
           "size": 14
          },
          "showarrow": false,
          "text": "Databases",
          "x": 0.5,
          "xanchor": "center",
          "y": 0.5,
          "yanchor": "middle"
         }
        ],
        "autosize": false,
        "height": 400,
        "margin": {
         "b": 5,
         "l": 5,
         "r": 5,
         "t": 5
        },
        "showlegend": false,
        "template": {
         "data": {
          "bar": [
           {
            "error_x": {
             "color": "#2a3f5f"
            },
            "error_y": {
             "color": "#2a3f5f"
            },
            "marker": {
             "line": {
              "color": "#E5ECF6",
              "width": 0.5
             },
             "pattern": {
              "fillmode": "overlay",
              "size": 10,
              "solidity": 0.2
             }
            },
            "type": "bar"
           }
          ],
          "barpolar": [
           {
            "marker": {
             "line": {
              "color": "#E5ECF6",
              "width": 0.5
             },
             "pattern": {
              "fillmode": "overlay",
              "size": 10,
              "solidity": 0.2
             }
            },
            "type": "barpolar"
           }
          ],
          "carpet": [
           {
            "aaxis": {
             "endlinecolor": "#2a3f5f",
             "gridcolor": "white",
             "linecolor": "white",
             "minorgridcolor": "white",
             "startlinecolor": "#2a3f5f"
            },
            "baxis": {
             "endlinecolor": "#2a3f5f",
             "gridcolor": "white",
             "linecolor": "white",
             "minorgridcolor": "white",
             "startlinecolor": "#2a3f5f"
            },
            "type": "carpet"
           }
          ],
          "choropleth": [
           {
            "colorbar": {
             "outlinewidth": 0,
             "ticks": ""
            },
            "type": "choropleth"
           }
          ],
          "contour": [
           {
            "colorbar": {
             "outlinewidth": 0,
             "ticks": ""
            },
            "colorscale": [
             [
              0,
              "#0d0887"
             ],
             [
              0.1111111111111111,
              "#46039f"
             ],
             [
              0.2222222222222222,
              "#7201a8"
             ],
             [
              0.3333333333333333,
              "#9c179e"
             ],
             [
              0.4444444444444444,
              "#bd3786"
             ],
             [
              0.5555555555555556,
              "#d8576b"
             ],
             [
              0.6666666666666666,
              "#ed7953"
             ],
             [
              0.7777777777777778,
              "#fb9f3a"
             ],
             [
              0.8888888888888888,
              "#fdca26"
             ],
             [
              1,
              "#f0f921"
             ]
            ],
            "type": "contour"
           }
          ],
          "contourcarpet": [
           {
            "colorbar": {
             "outlinewidth": 0,
             "ticks": ""
            },
            "type": "contourcarpet"
           }
          ],
          "heatmap": [
           {
            "colorbar": {
             "outlinewidth": 0,
             "ticks": ""
            },
            "colorscale": [
             [
              0,
              "#0d0887"
             ],
             [
              0.1111111111111111,
              "#46039f"
             ],
             [
              0.2222222222222222,
              "#7201a8"
             ],
             [
              0.3333333333333333,
              "#9c179e"
             ],
             [
              0.4444444444444444,
              "#bd3786"
             ],
             [
              0.5555555555555556,
              "#d8576b"
             ],
             [
              0.6666666666666666,
              "#ed7953"
             ],
             [
              0.7777777777777778,
              "#fb9f3a"
             ],
             [
              0.8888888888888888,
              "#fdca26"
             ],
             [
              1,
              "#f0f921"
             ]
            ],
            "type": "heatmap"
           }
          ],
          "heatmapgl": [
           {
            "colorbar": {
             "outlinewidth": 0,
             "ticks": ""
            },
            "colorscale": [
             [
              0,
              "#0d0887"
             ],
             [
              0.1111111111111111,
              "#46039f"
             ],
             [
              0.2222222222222222,
              "#7201a8"
             ],
             [
              0.3333333333333333,
              "#9c179e"
             ],
             [
              0.4444444444444444,
              "#bd3786"
             ],
             [
              0.5555555555555556,
              "#d8576b"
             ],
             [
              0.6666666666666666,
              "#ed7953"
             ],
             [
              0.7777777777777778,
              "#fb9f3a"
             ],
             [
              0.8888888888888888,
              "#fdca26"
             ],
             [
              1,
              "#f0f921"
             ]
            ],
            "type": "heatmapgl"
           }
          ],
          "histogram": [
           {
            "marker": {
             "pattern": {
              "fillmode": "overlay",
              "size": 10,
              "solidity": 0.2
             }
            },
            "type": "histogram"
           }
          ],
          "histogram2d": [
           {
            "colorbar": {
             "outlinewidth": 0,
             "ticks": ""
            },
            "colorscale": [
             [
              0,
              "#0d0887"
             ],
             [
              0.1111111111111111,
              "#46039f"
             ],
             [
              0.2222222222222222,
              "#7201a8"
             ],
             [
              0.3333333333333333,
              "#9c179e"
             ],
             [
              0.4444444444444444,
              "#bd3786"
             ],
             [
              0.5555555555555556,
              "#d8576b"
             ],
             [
              0.6666666666666666,
              "#ed7953"
             ],
             [
              0.7777777777777778,
              "#fb9f3a"
             ],
             [
              0.8888888888888888,
              "#fdca26"
             ],
             [
              1,
              "#f0f921"
             ]
            ],
            "type": "histogram2d"
           }
          ],
          "histogram2dcontour": [
           {
            "colorbar": {
             "outlinewidth": 0,
             "ticks": ""
            },
            "colorscale": [
             [
              0,
              "#0d0887"
             ],
             [
              0.1111111111111111,
              "#46039f"
             ],
             [
              0.2222222222222222,
              "#7201a8"
             ],
             [
              0.3333333333333333,
              "#9c179e"
             ],
             [
              0.4444444444444444,
              "#bd3786"
             ],
             [
              0.5555555555555556,
              "#d8576b"
             ],
             [
              0.6666666666666666,
              "#ed7953"
             ],
             [
              0.7777777777777778,
              "#fb9f3a"
             ],
             [
              0.8888888888888888,
              "#fdca26"
             ],
             [
              1,
              "#f0f921"
             ]
            ],
            "type": "histogram2dcontour"
           }
          ],
          "mesh3d": [
           {
            "colorbar": {
             "outlinewidth": 0,
             "ticks": ""
            },
            "type": "mesh3d"
           }
          ],
          "parcoords": [
           {
            "line": {
             "colorbar": {
              "outlinewidth": 0,
              "ticks": ""
             }
            },
            "type": "parcoords"
           }
          ],
          "pie": [
           {
            "automargin": true,
            "type": "pie"
           }
          ],
          "scatter": [
           {
            "fillpattern": {
             "fillmode": "overlay",
             "size": 10,
             "solidity": 0.2
            },
            "type": "scatter"
           }
          ],
          "scatter3d": [
           {
            "line": {
             "colorbar": {
              "outlinewidth": 0,
              "ticks": ""
             }
            },
            "marker": {
             "colorbar": {
              "outlinewidth": 0,
              "ticks": ""
             }
            },
            "type": "scatter3d"
           }
          ],
          "scattercarpet": [
           {
            "marker": {
             "colorbar": {
              "outlinewidth": 0,
              "ticks": ""
             }
            },
            "type": "scattercarpet"
           }
          ],
          "scattergeo": [
           {
            "marker": {
             "colorbar": {
              "outlinewidth": 0,
              "ticks": ""
             }
            },
            "type": "scattergeo"
           }
          ],
          "scattergl": [
           {
            "marker": {
             "colorbar": {
              "outlinewidth": 0,
              "ticks": ""
             }
            },
            "type": "scattergl"
           }
          ],
          "scattermapbox": [
           {
            "marker": {
             "colorbar": {
              "outlinewidth": 0,
              "ticks": ""
             }
            },
            "type": "scattermapbox"
           }
          ],
          "scatterpolar": [
           {
            "marker": {
             "colorbar": {
              "outlinewidth": 0,
              "ticks": ""
             }
            },
            "type": "scatterpolar"
           }
          ],
          "scatterpolargl": [
           {
            "marker": {
             "colorbar": {
              "outlinewidth": 0,
              "ticks": ""
             }
            },
            "type": "scatterpolargl"
           }
          ],
          "scatterternary": [
           {
            "marker": {
             "colorbar": {
              "outlinewidth": 0,
              "ticks": ""
             }
            },
            "type": "scatterternary"
           }
          ],
          "surface": [
           {
            "colorbar": {
             "outlinewidth": 0,
             "ticks": ""
            },
            "colorscale": [
             [
              0,
              "#0d0887"
             ],
             [
              0.1111111111111111,
              "#46039f"
             ],
             [
              0.2222222222222222,
              "#7201a8"
             ],
             [
              0.3333333333333333,
              "#9c179e"
             ],
             [
              0.4444444444444444,
              "#bd3786"
             ],
             [
              0.5555555555555556,
              "#d8576b"
             ],
             [
              0.6666666666666666,
              "#ed7953"
             ],
             [
              0.7777777777777778,
              "#fb9f3a"
             ],
             [
              0.8888888888888888,
              "#fdca26"
             ],
             [
              1,
              "#f0f921"
             ]
            ],
            "type": "surface"
           }
          ],
          "table": [
           {
            "cells": {
             "fill": {
              "color": "#EBF0F8"
             },
             "line": {
              "color": "white"
             }
            },
            "header": {
             "fill": {
              "color": "#C8D4E3"
             },
             "line": {
              "color": "white"
             }
            },
            "type": "table"
           }
          ]
         },
         "layout": {
          "annotationdefaults": {
           "arrowcolor": "#2a3f5f",
           "arrowhead": 0,
           "arrowwidth": 1
          },
          "autotypenumbers": "strict",
          "coloraxis": {
           "colorbar": {
            "outlinewidth": 0,
            "ticks": ""
           }
          },
          "colorscale": {
           "diverging": [
            [
             0,
             "#8e0152"
            ],
            [
             0.1,
             "#c51b7d"
            ],
            [
             0.2,
             "#de77ae"
            ],
            [
             0.3,
             "#f1b6da"
            ],
            [
             0.4,
             "#fde0ef"
            ],
            [
             0.5,
             "#f7f7f7"
            ],
            [
             0.6,
             "#e6f5d0"
            ],
            [
             0.7,
             "#b8e186"
            ],
            [
             0.8,
             "#7fbc41"
            ],
            [
             0.9,
             "#4d9221"
            ],
            [
             1,
             "#276419"
            ]
           ],
           "sequential": [
            [
             0,
             "#0d0887"
            ],
            [
             0.1111111111111111,
             "#46039f"
            ],
            [
             0.2222222222222222,
             "#7201a8"
            ],
            [
             0.3333333333333333,
             "#9c179e"
            ],
            [
             0.4444444444444444,
             "#bd3786"
            ],
            [
             0.5555555555555556,
             "#d8576b"
            ],
            [
             0.6666666666666666,
             "#ed7953"
            ],
            [
             0.7777777777777778,
             "#fb9f3a"
            ],
            [
             0.8888888888888888,
             "#fdca26"
            ],
            [
             1,
             "#f0f921"
            ]
           ],
           "sequentialminus": [
            [
             0,
             "#0d0887"
            ],
            [
             0.1111111111111111,
             "#46039f"
            ],
            [
             0.2222222222222222,
             "#7201a8"
            ],
            [
             0.3333333333333333,
             "#9c179e"
            ],
            [
             0.4444444444444444,
             "#bd3786"
            ],
            [
             0.5555555555555556,
             "#d8576b"
            ],
            [
             0.6666666666666666,
             "#ed7953"
            ],
            [
             0.7777777777777778,
             "#fb9f3a"
            ],
            [
             0.8888888888888888,
             "#fdca26"
            ],
            [
             1,
             "#f0f921"
            ]
           ]
          },
          "colorway": [
           "#636efa",
           "#EF553B",
           "#00cc96",
           "#ab63fa",
           "#FFA15A",
           "#19d3f3",
           "#FF6692",
           "#B6E880",
           "#FF97FF",
           "#FECB52"
          ],
          "font": {
           "color": "#2a3f5f"
          },
          "geo": {
           "bgcolor": "white",
           "lakecolor": "white",
           "landcolor": "#E5ECF6",
           "showlakes": true,
           "showland": true,
           "subunitcolor": "white"
          },
          "hoverlabel": {
           "align": "left"
          },
          "hovermode": "closest",
          "mapbox": {
           "style": "light"
          },
          "paper_bgcolor": "white",
          "plot_bgcolor": "#E5ECF6",
          "polar": {
           "angularaxis": {
            "gridcolor": "white",
            "linecolor": "white",
            "ticks": ""
           },
           "bgcolor": "#E5ECF6",
           "radialaxis": {
            "gridcolor": "white",
            "linecolor": "white",
            "ticks": ""
           }
          },
          "scene": {
           "xaxis": {
            "backgroundcolor": "#E5ECF6",
            "gridcolor": "white",
            "gridwidth": 2,
            "linecolor": "white",
            "showbackground": true,
            "ticks": "",
            "zerolinecolor": "white"
           },
           "yaxis": {
            "backgroundcolor": "#E5ECF6",
            "gridcolor": "white",
            "gridwidth": 2,
            "linecolor": "white",
            "showbackground": true,
            "ticks": "",
            "zerolinecolor": "white"
           },
           "zaxis": {
            "backgroundcolor": "#E5ECF6",
            "gridcolor": "white",
            "gridwidth": 2,
            "linecolor": "white",
            "showbackground": true,
            "ticks": "",
            "zerolinecolor": "white"
           }
          },
          "shapedefaults": {
           "line": {
            "color": "#2a3f5f"
           }
          },
          "ternary": {
           "aaxis": {
            "gridcolor": "white",
            "linecolor": "white",
            "ticks": ""
           },
           "baxis": {
            "gridcolor": "white",
            "linecolor": "white",
            "ticks": ""
           },
           "bgcolor": "#E5ECF6",
           "caxis": {
            "gridcolor": "white",
            "linecolor": "white",
            "ticks": ""
           }
          },
          "title": {
           "x": 0.05
          },
          "xaxis": {
           "automargin": true,
           "gridcolor": "white",
           "linecolor": "white",
           "ticks": "",
           "title": {
            "standoff": 15
           },
           "zerolinecolor": "white",
           "zerolinewidth": 2
          },
          "yaxis": {
           "automargin": true,
           "gridcolor": "white",
           "linecolor": "white",
           "ticks": "",
           "title": {
            "standoff": 15
           },
           "zerolinecolor": "white",
           "zerolinewidth": 2
          }
         }
        },
        "width": 400
       }
      }
     },
     "metadata": {},
     "output_type": "display_data"
    }
   ],
   "source": [
    "title = \"Databases\"\n",
    "file_name = \"fig_distribution_of_included_studies_by_database.pdf\"\n",
    "labels = [\"IEEE Xplore\", \"Scopus\", \"ScienceDirect\", \"Web of Science\", \"ACM DL\"]\n",
    "sizes = [37, 32, 11, 1, 1]\n",
    "\n",
    "# Create a single donut chart\n",
    "fig = go.Figure(\n",
    "    data=[go.Pie(\n",
    "        labels=labels,           # Specify labels for each segment of the pie chart\n",
    "        values=sizes,            # Specify values for each segment, determining their relative sizes\n",
    "        hole=.3,                 # Set the \"hole\" size for the donut chart (0.3 makes it a donut chart)\n",
    "        opacity=1,               # Set opacity to make the chart fully opaque\n",
    "        sort=True,               # Enable sorting of segments by value\n",
    "        # textinfo='label+percent+value',  # Display label, percentage, and value together (commented out)\n",
    "        textinfo='text',         # Specify custom text to display inside each segment\n",
    "        text=[f\"<b>{label}</b><br>n={size}, {size/sum(sizes):.0%}\" for label, size in zip(labels, sizes)], \n",
    "        textposition='inside',    # Position the custom text inside the chart segments\n",
    "        # outsidetextfont=dict(size=20, color=\"#377eb8\"),  # Set font styling for outside text (commented out)\n",
    "        insidetextfont=dict(size=16, color=\"white\"),  # Set font size and color for text inside segments\n",
    "        marker=dict(line=dict(color='grey', width=0.1))  # Add a grey border around each segment with minimal width\n",
    "    )]\n",
    ")\n",
    "\n",
    "# Update layout of the chart\n",
    "fig.update_layout(\n",
    "    showlegend=False,           # Hide the legend for cleaner appearance \n",
    "    autosize=False,             # Disable autosizing to set custom dimensions\n",
    "    width=400,                  # Set width of the figure\n",
    "    height=400,                 # Set height of the figure\n",
    "    template=templs[3],         # Apply a predefined template for styling the chart, choose form the list templs\n",
    "    margin=dict(l=5, r=5, t=5, b=5),  # Reduce the margins around the figure\n",
    ")\n",
    "\n",
    "# Add a centered annotation (e.g., title) in the middle of the chart\n",
    "fig.add_annotation(\n",
    "    text=title,                 # Text for the annotation (e.g., chart title)\n",
    "    x=0.5, y=0.5,               # Center the annotation at the middle of the chart\n",
    "    showarrow=False,            # Disable arrow for the annotation\n",
    "    font=dict(size=14, color=\"black\"),  # Set font size and color for the annotation\n",
    "    xanchor='center', yanchor='middle'  # Anchor the text to the center\n",
    ")\n",
    "\n",
    "# Show the plot in an interactive window\n",
    "fig.show()\n",
    "\n",
    "# Optionally, write the figure to an image file\n",
    "# fig.write_image(file_name)"
   ]
  },
  {
   "cell_type": "markdown",
   "metadata": {},
   "source": [
    "# **Sunburst Chart**\n",
    "\n",
    "<span style=\"font-size:14px;\">**This code will generate a figure like this one:<br> https://ars.els-cdn.com/content/image/1-s2.0-S1319157824001575-gr13_lrg.jpg**</span>"
   ]
  },
  {
   "cell_type": "code",
   "execution_count": null,
   "metadata": {},
   "outputs": [
    {
     "data": {
      "application/vnd.plotly.v1+json": {
       "config": {
        "plotlyServerURL": "https://plot.ly"
       },
       "data": [
        {
         "branchvalues": "total",
         "insidetextfont": {
          "color": "white",
          "size": 14
         },
         "insidetextorientation": "auto",
         "labels": [
          "Optimizers",
          "Gradient Descent-Based",
          "SGD",
          "Mini batch SGD",
          "Nesterov",
          "SGDM",
          "ASGD",
          "Adaptive Learning Rate",
          "Adam",
          "RMSprop",
          "AdaDelta",
          "AdaGrad",
          "Adamax",
          "NAdam",
          "AdamW",
          "RAdam",
          "Lookahead",
          "R-Lookahead",
          "SDAGD",
          "diffGrad",
          "Metaheuristic",
          "PSO",
          "GA",
          "ACO",
          "GOA",
          "HHO",
          "BRO",
          "DF",
          "FA",
          "FCSA",
          "GWO",
          "HSBSO",
          "WHHO",
          "PEO",
          "POA",
          "SCO",
          "Boosting",
          "ADABOOST",
          "XGBOOST",
          "Other",
          "ALF",
          "BO",
          "SMBO"
         ],
         "parents": [
          "",
          "Optimizers",
          "Gradient Descent-Based",
          "Gradient Descent-Based",
          "Gradient Descent-Based",
          "Gradient Descent-Based",
          "Gradient Descent-Based",
          "Optimizers",
          "Adaptive Learning Rate",
          "Adaptive Learning Rate",
          "Adaptive Learning Rate",
          "Adaptive Learning Rate",
          "Adaptive Learning Rate",
          "Adaptive Learning Rate",
          "Adaptive Learning Rate",
          "Adaptive Learning Rate",
          "Adaptive Learning Rate",
          "Adaptive Learning Rate",
          "Adaptive Learning Rate",
          "Adaptive Learning Rate",
          "Optimizers",
          "Metaheuristic",
          "Metaheuristic",
          "Metaheuristic",
          "Metaheuristic",
          "Metaheuristic",
          "Metaheuristic",
          "Metaheuristic",
          "Metaheuristic",
          "Metaheuristic",
          "Metaheuristic",
          "Metaheuristic",
          "Metaheuristic",
          "Metaheuristic",
          "Metaheuristic",
          "Metaheuristic",
          "Optimizers",
          "Boosting",
          "Boosting",
          "Optimizers",
          "Other",
          "Other",
          "Other"
         ],
         "sort": true,
         "textinfo": "text",
         "texttemplate": [
          "<b>Optimizers</b><br>n=112, 87%",
          "<b>Gradient Descent-Based</b><br>n=19, 15%",
          "<b>SGD</b><br>n=11, 9%",
          "<b>Mini batch SGD</b><br>n=3, 2%",
          "<b>Nesterov</b><br>n=2, 2%",
          "<b>SGDM</b><br>n=2, 2%",
          "<b>ASGD</b><br>n=1, 1%",
          "<b>Adaptive Learning Rate</b><br>n=59, 46%",
          "<b>Adam</b><br>n=29, 22%",
          "<b>RMSprop</b><br>n=7, 5%",
          "<b>AdaDelta</b><br>n=6, 5%",
          "<b>AdaGrad</b><br>n=6, 5%",
          "<b>Adamax</b><br>n=2, 2%",
          "<b>NAdam</b><br>n=2, 2%",
          "<b>AdamW</b><br>n=2, 2%",
          "<b>RAdam</b><br>n=1, 1%",
          "<b>Lookahead</b><br>n=1, 1%",
          "<b>R-Lookahead</b><br>n=1, 1%",
          "<b>SDAGD</b><br>n=1, 1%",
          "<b>diffGrad</b><br>n=1, 1%",
          "<b>Metaheuristic</b><br>n=27, 21%",
          "<b>PSO</b><br>n=9, 7%",
          "<b>GA</b><br>n=2, 2%",
          "<b>ACO</b><br>n=2, 2%",
          "<b>GOA</b><br>n=2, 2%",
          "<b>HHO</b><br>n=2, 2%",
          "<b>BRO</b><br>n=1, 1%",
          "<b>DF</b><br>n=1, 1%",
          "<b>FA</b><br>n=1, 1%",
          "<b>FCSA</b><br>n=1, 1%",
          "<b>GWO</b><br>n=1, 1%",
          "<b>HSBSO</b><br>n=1, 1%",
          "<b>WHHO</b><br>n=1, 1%",
          "<b>PEO</b><br>n=1, 1%",
          "<b>POA</b><br>n=1, 1%",
          "<b>SCO</b><br>n=1, 1%",
          "<b>Boosting</b><br>n=2, 2%",
          "<b>ADABOOST</b><br>n=1, 1%",
          "<b>XGBOOST</b><br>n=1, 1%",
          "<b>Other</b><br>n=5, 4%",
          "<b>ALF</b><br>n=1, 1%",
          "<b>BO</b><br>n=3, 2%",
          "<b>SMBO</b><br>n=1, 1%"
         ],
         "type": "sunburst",
         "values": [
          112,
          19,
          11,
          3,
          2,
          2,
          1,
          59,
          29,
          7,
          6,
          6,
          2,
          2,
          2,
          1,
          1,
          1,
          1,
          1,
          27,
          9,
          2,
          2,
          2,
          2,
          1,
          1,
          1,
          1,
          1,
          1,
          1,
          1,
          1,
          1,
          2,
          1,
          1,
          5,
          1,
          3,
          1
         ]
        }
       ],
       "layout": {
        "autosize": false,
        "height": 600,
        "margin": {
         "b": 5,
         "l": 5,
         "r": 5,
         "t": 5
        },
        "showlegend": false,
        "template": {
         "data": {
          "bar": [
           {
            "error_x": {
             "color": "#2a3f5f"
            },
            "error_y": {
             "color": "#2a3f5f"
            },
            "marker": {
             "line": {
              "color": "#E5ECF6",
              "width": 0.5
             },
             "pattern": {
              "fillmode": "overlay",
              "size": 10,
              "solidity": 0.2
             }
            },
            "type": "bar"
           }
          ],
          "barpolar": [
           {
            "marker": {
             "line": {
              "color": "#E5ECF6",
              "width": 0.5
             },
             "pattern": {
              "fillmode": "overlay",
              "size": 10,
              "solidity": 0.2
             }
            },
            "type": "barpolar"
           }
          ],
          "carpet": [
           {
            "aaxis": {
             "endlinecolor": "#2a3f5f",
             "gridcolor": "white",
             "linecolor": "white",
             "minorgridcolor": "white",
             "startlinecolor": "#2a3f5f"
            },
            "baxis": {
             "endlinecolor": "#2a3f5f",
             "gridcolor": "white",
             "linecolor": "white",
             "minorgridcolor": "white",
             "startlinecolor": "#2a3f5f"
            },
            "type": "carpet"
           }
          ],
          "choropleth": [
           {
            "colorbar": {
             "outlinewidth": 0,
             "ticks": ""
            },
            "type": "choropleth"
           }
          ],
          "contour": [
           {
            "colorbar": {
             "outlinewidth": 0,
             "ticks": ""
            },
            "colorscale": [
             [
              0,
              "#0d0887"
             ],
             [
              0.1111111111111111,
              "#46039f"
             ],
             [
              0.2222222222222222,
              "#7201a8"
             ],
             [
              0.3333333333333333,
              "#9c179e"
             ],
             [
              0.4444444444444444,
              "#bd3786"
             ],
             [
              0.5555555555555556,
              "#d8576b"
             ],
             [
              0.6666666666666666,
              "#ed7953"
             ],
             [
              0.7777777777777778,
              "#fb9f3a"
             ],
             [
              0.8888888888888888,
              "#fdca26"
             ],
             [
              1,
              "#f0f921"
             ]
            ],
            "type": "contour"
           }
          ],
          "contourcarpet": [
           {
            "colorbar": {
             "outlinewidth": 0,
             "ticks": ""
            },
            "type": "contourcarpet"
           }
          ],
          "heatmap": [
           {
            "colorbar": {
             "outlinewidth": 0,
             "ticks": ""
            },
            "colorscale": [
             [
              0,
              "#0d0887"
             ],
             [
              0.1111111111111111,
              "#46039f"
             ],
             [
              0.2222222222222222,
              "#7201a8"
             ],
             [
              0.3333333333333333,
              "#9c179e"
             ],
             [
              0.4444444444444444,
              "#bd3786"
             ],
             [
              0.5555555555555556,
              "#d8576b"
             ],
             [
              0.6666666666666666,
              "#ed7953"
             ],
             [
              0.7777777777777778,
              "#fb9f3a"
             ],
             [
              0.8888888888888888,
              "#fdca26"
             ],
             [
              1,
              "#f0f921"
             ]
            ],
            "type": "heatmap"
           }
          ],
          "heatmapgl": [
           {
            "colorbar": {
             "outlinewidth": 0,
             "ticks": ""
            },
            "colorscale": [
             [
              0,
              "#0d0887"
             ],
             [
              0.1111111111111111,
              "#46039f"
             ],
             [
              0.2222222222222222,
              "#7201a8"
             ],
             [
              0.3333333333333333,
              "#9c179e"
             ],
             [
              0.4444444444444444,
              "#bd3786"
             ],
             [
              0.5555555555555556,
              "#d8576b"
             ],
             [
              0.6666666666666666,
              "#ed7953"
             ],
             [
              0.7777777777777778,
              "#fb9f3a"
             ],
             [
              0.8888888888888888,
              "#fdca26"
             ],
             [
              1,
              "#f0f921"
             ]
            ],
            "type": "heatmapgl"
           }
          ],
          "histogram": [
           {
            "marker": {
             "pattern": {
              "fillmode": "overlay",
              "size": 10,
              "solidity": 0.2
             }
            },
            "type": "histogram"
           }
          ],
          "histogram2d": [
           {
            "colorbar": {
             "outlinewidth": 0,
             "ticks": ""
            },
            "colorscale": [
             [
              0,
              "#0d0887"
             ],
             [
              0.1111111111111111,
              "#46039f"
             ],
             [
              0.2222222222222222,
              "#7201a8"
             ],
             [
              0.3333333333333333,
              "#9c179e"
             ],
             [
              0.4444444444444444,
              "#bd3786"
             ],
             [
              0.5555555555555556,
              "#d8576b"
             ],
             [
              0.6666666666666666,
              "#ed7953"
             ],
             [
              0.7777777777777778,
              "#fb9f3a"
             ],
             [
              0.8888888888888888,
              "#fdca26"
             ],
             [
              1,
              "#f0f921"
             ]
            ],
            "type": "histogram2d"
           }
          ],
          "histogram2dcontour": [
           {
            "colorbar": {
             "outlinewidth": 0,
             "ticks": ""
            },
            "colorscale": [
             [
              0,
              "#0d0887"
             ],
             [
              0.1111111111111111,
              "#46039f"
             ],
             [
              0.2222222222222222,
              "#7201a8"
             ],
             [
              0.3333333333333333,
              "#9c179e"
             ],
             [
              0.4444444444444444,
              "#bd3786"
             ],
             [
              0.5555555555555556,
              "#d8576b"
             ],
             [
              0.6666666666666666,
              "#ed7953"
             ],
             [
              0.7777777777777778,
              "#fb9f3a"
             ],
             [
              0.8888888888888888,
              "#fdca26"
             ],
             [
              1,
              "#f0f921"
             ]
            ],
            "type": "histogram2dcontour"
           }
          ],
          "mesh3d": [
           {
            "colorbar": {
             "outlinewidth": 0,
             "ticks": ""
            },
            "type": "mesh3d"
           }
          ],
          "parcoords": [
           {
            "line": {
             "colorbar": {
              "outlinewidth": 0,
              "ticks": ""
             }
            },
            "type": "parcoords"
           }
          ],
          "pie": [
           {
            "automargin": true,
            "type": "pie"
           }
          ],
          "scatter": [
           {
            "fillpattern": {
             "fillmode": "overlay",
             "size": 10,
             "solidity": 0.2
            },
            "type": "scatter"
           }
          ],
          "scatter3d": [
           {
            "line": {
             "colorbar": {
              "outlinewidth": 0,
              "ticks": ""
             }
            },
            "marker": {
             "colorbar": {
              "outlinewidth": 0,
              "ticks": ""
             }
            },
            "type": "scatter3d"
           }
          ],
          "scattercarpet": [
           {
            "marker": {
             "colorbar": {
              "outlinewidth": 0,
              "ticks": ""
             }
            },
            "type": "scattercarpet"
           }
          ],
          "scattergeo": [
           {
            "marker": {
             "colorbar": {
              "outlinewidth": 0,
              "ticks": ""
             }
            },
            "type": "scattergeo"
           }
          ],
          "scattergl": [
           {
            "marker": {
             "colorbar": {
              "outlinewidth": 0,
              "ticks": ""
             }
            },
            "type": "scattergl"
           }
          ],
          "scattermapbox": [
           {
            "marker": {
             "colorbar": {
              "outlinewidth": 0,
              "ticks": ""
             }
            },
            "type": "scattermapbox"
           }
          ],
          "scatterpolar": [
           {
            "marker": {
             "colorbar": {
              "outlinewidth": 0,
              "ticks": ""
             }
            },
            "type": "scatterpolar"
           }
          ],
          "scatterpolargl": [
           {
            "marker": {
             "colorbar": {
              "outlinewidth": 0,
              "ticks": ""
             }
            },
            "type": "scatterpolargl"
           }
          ],
          "scatterternary": [
           {
            "marker": {
             "colorbar": {
              "outlinewidth": 0,
              "ticks": ""
             }
            },
            "type": "scatterternary"
           }
          ],
          "surface": [
           {
            "colorbar": {
             "outlinewidth": 0,
             "ticks": ""
            },
            "colorscale": [
             [
              0,
              "#0d0887"
             ],
             [
              0.1111111111111111,
              "#46039f"
             ],
             [
              0.2222222222222222,
              "#7201a8"
             ],
             [
              0.3333333333333333,
              "#9c179e"
             ],
             [
              0.4444444444444444,
              "#bd3786"
             ],
             [
              0.5555555555555556,
              "#d8576b"
             ],
             [
              0.6666666666666666,
              "#ed7953"
             ],
             [
              0.7777777777777778,
              "#fb9f3a"
             ],
             [
              0.8888888888888888,
              "#fdca26"
             ],
             [
              1,
              "#f0f921"
             ]
            ],
            "type": "surface"
           }
          ],
          "table": [
           {
            "cells": {
             "fill": {
              "color": "#EBF0F8"
             },
             "line": {
              "color": "white"
             }
            },
            "header": {
             "fill": {
              "color": "#C8D4E3"
             },
             "line": {
              "color": "white"
             }
            },
            "type": "table"
           }
          ]
         },
         "layout": {
          "annotationdefaults": {
           "arrowcolor": "#2a3f5f",
           "arrowhead": 0,
           "arrowwidth": 1
          },
          "autotypenumbers": "strict",
          "coloraxis": {
           "colorbar": {
            "outlinewidth": 0,
            "ticks": ""
           }
          },
          "colorscale": {
           "diverging": [
            [
             0,
             "#8e0152"
            ],
            [
             0.1,
             "#c51b7d"
            ],
            [
             0.2,
             "#de77ae"
            ],
            [
             0.3,
             "#f1b6da"
            ],
            [
             0.4,
             "#fde0ef"
            ],
            [
             0.5,
             "#f7f7f7"
            ],
            [
             0.6,
             "#e6f5d0"
            ],
            [
             0.7,
             "#b8e186"
            ],
            [
             0.8,
             "#7fbc41"
            ],
            [
             0.9,
             "#4d9221"
            ],
            [
             1,
             "#276419"
            ]
           ],
           "sequential": [
            [
             0,
             "#0d0887"
            ],
            [
             0.1111111111111111,
             "#46039f"
            ],
            [
             0.2222222222222222,
             "#7201a8"
            ],
            [
             0.3333333333333333,
             "#9c179e"
            ],
            [
             0.4444444444444444,
             "#bd3786"
            ],
            [
             0.5555555555555556,
             "#d8576b"
            ],
            [
             0.6666666666666666,
             "#ed7953"
            ],
            [
             0.7777777777777778,
             "#fb9f3a"
            ],
            [
             0.8888888888888888,
             "#fdca26"
            ],
            [
             1,
             "#f0f921"
            ]
           ],
           "sequentialminus": [
            [
             0,
             "#0d0887"
            ],
            [
             0.1111111111111111,
             "#46039f"
            ],
            [
             0.2222222222222222,
             "#7201a8"
            ],
            [
             0.3333333333333333,
             "#9c179e"
            ],
            [
             0.4444444444444444,
             "#bd3786"
            ],
            [
             0.5555555555555556,
             "#d8576b"
            ],
            [
             0.6666666666666666,
             "#ed7953"
            ],
            [
             0.7777777777777778,
             "#fb9f3a"
            ],
            [
             0.8888888888888888,
             "#fdca26"
            ],
            [
             1,
             "#f0f921"
            ]
           ]
          },
          "colorway": [
           "#636efa",
           "#EF553B",
           "#00cc96",
           "#ab63fa",
           "#FFA15A",
           "#19d3f3",
           "#FF6692",
           "#B6E880",
           "#FF97FF",
           "#FECB52"
          ],
          "font": {
           "color": "#2a3f5f"
          },
          "geo": {
           "bgcolor": "white",
           "lakecolor": "white",
           "landcolor": "#E5ECF6",
           "showlakes": true,
           "showland": true,
           "subunitcolor": "white"
          },
          "hoverlabel": {
           "align": "left"
          },
          "hovermode": "closest",
          "mapbox": {
           "style": "light"
          },
          "paper_bgcolor": "white",
          "plot_bgcolor": "#E5ECF6",
          "polar": {
           "angularaxis": {
            "gridcolor": "white",
            "linecolor": "white",
            "ticks": ""
           },
           "bgcolor": "#E5ECF6",
           "radialaxis": {
            "gridcolor": "white",
            "linecolor": "white",
            "ticks": ""
           }
          },
          "scene": {
           "xaxis": {
            "backgroundcolor": "#E5ECF6",
            "gridcolor": "white",
            "gridwidth": 2,
            "linecolor": "white",
            "showbackground": true,
            "ticks": "",
            "zerolinecolor": "white"
           },
           "yaxis": {
            "backgroundcolor": "#E5ECF6",
            "gridcolor": "white",
            "gridwidth": 2,
            "linecolor": "white",
            "showbackground": true,
            "ticks": "",
            "zerolinecolor": "white"
           },
           "zaxis": {
            "backgroundcolor": "#E5ECF6",
            "gridcolor": "white",
            "gridwidth": 2,
            "linecolor": "white",
            "showbackground": true,
            "ticks": "",
            "zerolinecolor": "white"
           }
          },
          "shapedefaults": {
           "line": {
            "color": "#2a3f5f"
           }
          },
          "ternary": {
           "aaxis": {
            "gridcolor": "white",
            "linecolor": "white",
            "ticks": ""
           },
           "baxis": {
            "gridcolor": "white",
            "linecolor": "white",
            "ticks": ""
           },
           "bgcolor": "#E5ECF6",
           "caxis": {
            "gridcolor": "white",
            "linecolor": "white",
            "ticks": ""
           }
          },
          "title": {
           "x": 0.05
          },
          "xaxis": {
           "automargin": true,
           "gridcolor": "white",
           "linecolor": "white",
           "ticks": "",
           "title": {
            "standoff": 15
           },
           "zerolinecolor": "white",
           "zerolinewidth": 2
          },
          "yaxis": {
           "automargin": true,
           "gridcolor": "white",
           "linecolor": "white",
           "ticks": "",
           "title": {
            "standoff": 15
           },
           "zerolinecolor": "white",
           "zerolinewidth": 2
          }
         }
        },
        "width": 600
       }
      }
     },
     "metadata": {},
     "output_type": "display_data"
    }
   ],
   "source": [
    "file_name = \"fig_distribution_of_included_studies_by_optimizer.pdf\"\n",
    "\n",
    "parents=[\n",
    "        \"\", # Root for Optimizers\n",
    "        \"Optimizers\", # Parent for Gradient Descent-Based\n",
    "        # Children of Gradient Descent-Based\n",
    "        \"Gradient Descent-Based\", \"Gradient Descent-Based\", \"Gradient Descent-Based\", \"Gradient Descent-Based\", \"Gradient Descent-Based\", \n",
    "        \"Optimizers\", # Parent for Adaptive Learning Rate\n",
    "        # Children of Adaptive Learning Rate follow...\n",
    "        \"Adaptive Learning Rate\", \"Adaptive Learning Rate\", \"Adaptive Learning Rate\", \"Adaptive Learning Rate\", \"Adaptive Learning Rate\",\n",
    "        \"Adaptive Learning Rate\", \"Adaptive Learning Rate\", \"Adaptive Learning Rate\", \"Adaptive Learning Rate\", \"Adaptive Learning Rate\",\n",
    "        \"Adaptive Learning Rate\", \"Adaptive Learning Rate\",\n",
    "        \"Optimizers\", # Parent for Metaheuristic\n",
    "        # Children of Metaheuristic follow...\n",
    "        \"Metaheuristic\", \"Metaheuristic\", \"Metaheuristic\", \"Metaheuristic\", \"Metaheuristic\", \"Metaheuristic\", \"Metaheuristic\",\n",
    "        \"Metaheuristic\", \"Metaheuristic\", \"Metaheuristic\", \"Metaheuristic\", \"Metaheuristic\", \"Metaheuristic\", \"Metaheuristic\",\n",
    "        \"Metaheuristic\", \n",
    "        \"Optimizers\", # Parents for Boosting\n",
    "        \"Boosting\", \"Boosting\", # Child of Boosting\n",
    "        \"Optimizers\", # Parents for Others\n",
    "        \"Other\", \"Other\", \"Other\",# Children of Other\n",
    "];\n",
    "\n",
    "labels=[\n",
    "        \"Optimizers\",\n",
    "        \"Gradient Descent-Based\", \"SGD\", \"Mini batch SGD\", \"Nesterov\", \"SGDM\", \"ASGD\",\n",
    "        \"Adaptive Learning Rate\", \"Adam\", \"RMSprop\", \"AdaDelta\", \"AdaGrad\", \"Adamax\", \"NAdam\", \"AdamW\", \"RAdam\", \"Lookahead\", \"R-Lookahead\", \"SDAGD\", \"diffGrad\",\n",
    "        \"Metaheuristic\", \"PSO\", \"GA\", \"ACO\", \"GOA\", \"HHO\", \"BRO\", \"DF\", \"FA\", \"FCSA\", \"GWO\", \"HSBSO\", \"WHHO\", \"PEO\", \"POA\", \"SCO\", \n",
    "        \"Boosting\", \"ADABOOST\", \"XGBOOST\",\n",
    "        \"Other\", \"ALF\", \"BO\", \"SMBO\",\n",
    "];\n",
    "\n",
    "values=[\n",
    "        112, # Total for Optimizers\n",
    "        19, # Total for Gradient Descent-Based\n",
    "        11, 3, 2, 2, 1, # Values for children of Gradient Descent-Based\n",
    "        59, # Total for Adaptive Learning Rate\n",
    "        29, 7, 6, 6, 2, 2, 2, 1, 1, 1, 1, 1, # Values for children of Adaptive Learning Rate\n",
    "        27, # Total for Metaheuristic\n",
    "        9, 2, 2, 2, 2, 1, 1, 1, 1, 1, 1, 1, 1, 1, 1, # Values for children of Metaheuristic\n",
    "        2, # Total for Boosting\n",
    "        1, 1, # Values for children of Boosting\n",
    "        5, # Total for Other\n",
    "        1, 3, 1, # Values for children of Other\n",
    "];\n",
    "\n",
    "fig = go.Figure(go.Sunburst(\n",
    "    parents=parents,               # Define the parent relationships for each segment of the sunburst\n",
    "    labels=labels,                 # Set the labels for each segment\n",
    "    values=values,                 # Set the values for each segment, determining their relative sizes\n",
    "    branchvalues=\"total\",          # Specify that the values represent the total of each branch (sum of children)\n",
    "    insidetextorientation='auto',  # Automatically orient text inside segments to improve readability\n",
    "    sort=True,                     # Enable sorting of segments by value within each branch\n",
    "    insidetextfont=dict(size=14, color=\"white\"),  # Set font size and color for text inside segments\n",
    "    # textinfo='label',            # Show only the label text\n",
    "    textinfo='text',               # Specify custom text format for each segment\n",
    "    texttemplate= [f\"<b>{label}</b><br>n={size}, {size/129:.0%}\" for label, size in zip(labels, values)],\n",
    "    # marker=dict(line=dict(color='grey', width=0.1))  # Add a grey border around each segment\n",
    "))\n",
    "\n",
    "fig.update_layout(\n",
    "    showlegend=False,   # Hide the legend (not needed as labels are displayed inside the chart)\n",
    "    autosize=False,     # Disable autosizing to set custom dimensions\n",
    "    width=600,          # Set width of the figure\n",
    "    height=600,         # Set height of the figure\n",
    "    template=templs[3], # Apply a predefined template for styling the chart\n",
    "    margin=dict(l=5, r=5, t=5, b=5),  # Reduced margins around the figure,\n",
    ")\n",
    "\n",
    "# Show the plot in an interactive window\n",
    "fig.show()\n",
    "\n",
    "# Optionally, write the figure to an image file\n",
    "# fig.write_image(file_name)"
   ]
  }
 ],
 "metadata": {
  "kernelspec": {
   "display_name": "FS_META",
   "language": "python",
   "name": "python3"
  },
  "language_info": {
   "codemirror_mode": {
    "name": "ipython",
    "version": 3
   },
   "file_extension": ".py",
   "mimetype": "text/x-python",
   "name": "python",
   "nbconvert_exporter": "python",
   "pygments_lexer": "ipython3",
   "version": "3.10.13"
  }
 },
 "nbformat": 4,
 "nbformat_minor": 2
}
